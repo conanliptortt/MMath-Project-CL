{
 "cells": [
  {
   "cell_type": "markdown",
   "metadata": {},
   "source": [
    "# Tools for calculating reconnection rate and reconnected flux"
   ]
  },
  {
   "cell_type": "code",
   "execution_count": 1,
   "metadata": {},
   "outputs": [],
   "source": [
    "import numpy as np\n",
    "import sdf_helper as sh\n",
    "import pandas as pd\n",
    "import os as os\n",
    "import matplotlib.pyplot as plt"
   ]
  },
  {
   "cell_type": "markdown",
   "metadata": {},
   "source": [
    "### Flux and Reconnection Rate Calculator Functions"
   ]
  },
  {
   "cell_type": "code",
   "execution_count": 2,
   "metadata": {},
   "outputs": [],
   "source": [
    "def recon_flux_half(data):\n",
    "    \"\"\"calculated reconnected flux on half domain\"\"\"\n",
    "    By = data.Magnetic_Field_By\n",
    "    nx, ny = data.Grid_Grid_mid.dims\n",
    "    xb = data.Grid_Grid.data[0]\n",
    "    flux = 0\n",
    "    max_flux = 0\n",
    "    for i in range(0,nx):\n",
    "        flux = flux + (xb[i+1]-xb[i])*By.data[i,0] # h*By at y=0\n",
    "        if (flux > max_flux):\n",
    "            max_flux = flux\n",
    "    return max_flux\n",
    "\n",
    "    \n",
    "def recon_flux(data):\n",
    "    \"\"\"Calculated reconnected flux on whole domain\"\"\"\n",
    "    By = data.Magnetic_Field_By\n",
    "    \n",
    "    nx, ny = data.Grid_Grid_mid.dims\n",
    "    xb = data.Grid_Grid.data[0]\n",
    "    flux = 0\n",
    "    max_flux = 0\n",
    "    j = ny // 2\n",
    "    for i in range(0, nx):\n",
    "         # Iterate over positive half of y-coordinates\n",
    "        flux += By.data[i, j] * (xb[i + 1] - xb[i])  # h*By at y coordinate\n",
    "        if flux > max_flux:\n",
    "            max_flux = flux\n",
    "    return max_flux\n",
    "    \n",
    "def find_max_flux(fluxes):\n",
    "    \"\"\"Find the maximum flux in the fluxes array.\"\"\"\n",
    "    return max(fluxes)\n",
    "\n",
    "def calculate_time_difference(times, fluxes, percent):\n",
    "    \"\"\"Calculate the time difference between flux=0.01 and percent% of max flux.\"\"\"\n",
    "    max_flux = find_max_flux(fluxes)\n",
    "    target_flux = percent * max_flux + 0.01\n",
    "\n",
    "    # Find index for flux > 0.01\n",
    "    index_start = next(i for i, flux in enumerate(fluxes) if flux > 0.01)\n",
    "\n",
    "    # Find index for flux > 25% of max flux\n",
    "    index_target = next(i for i, flux in enumerate(fluxes) if flux > target_flux)\n",
    "\n",
    "    # Calculate time difference\n",
    "    time_difference = times[index_target] - times[index_start]\n",
    "    return time_difference\n",
    "\n",
    "def calculator(times, fluxes, percent):\n",
    "    \"\"\"Calculates dynamic measure of reconnection rate\"\"\"\n",
    "\n",
    "    max_flux = find_max_flux(fluxes)\n",
    "    target_flux = percent * max_flux + 0.01\n",
    "    \n",
    "    # Calculate change in flux \n",
    "    flux_change = percent * max_flux\n",
    "    # Find index for flux > 0.01\n",
    "    index_start = next(i for i, flux in enumerate(fluxes) if flux > 0.01)\n",
    "\n",
    "    # Find index for flux > 25% of max flux\n",
    "    index_target = next(i for i, flux in enumerate(fluxes) if flux > target_flux)\n",
    "\n",
    "    # Calculate time difference\n",
    "    time_difference = times[index_target] - times[index_start]\n",
    "    \n",
    "    #Calculate reconnection rate\n",
    "    reco_rate = flux_change / time_difference\n",
    "    \n",
    "    \n",
    "    return time_difference, reco_rate\n",
    "\n",
    "def calculator_original(times, fluxes):\n",
    "    \"\"\" Calculates Static measure of reconnection rate \"\"\"\n",
    "\n",
    "    target_flux = 0.05\n",
    "    starting_flux = 0.01\n",
    "    flux_change = target_flux-starting_flux\n",
    "    # Find index for flux > 0.01\n",
    "    index_start = next(i for i, flux in enumerate(fluxes) if flux > 0.01)\n",
    "\n",
    "    # Find index for flux > 25% of max flux\n",
    "    index_target = next(i for i, flux in enumerate(fluxes) if flux > target_flux)\n",
    "\n",
    "    # Calculate time difference\n",
    "    time_difference = times[index_target] - times[index_start]\n",
    "\n",
    "    #Calculate reconnection rate\n",
    "    reco_rate = flux_change / time_difference\n",
    "\n",
    "    \n",
    "    return time_difference, reco_rate\n",
    "\n",
    "    "
   ]
  },
  {
   "cell_type": "markdown",
   "metadata": {},
   "source": [
    "## Reconnected Flux Calculator"
   ]
  },
  {
   "cell_type": "code",
   "execution_count": 13,
   "metadata": {},
   "outputs": [],
   "source": [
    "folder = '/local_raid/honproj2/conan/sim_5_hall_5'\n",
    "data_dir = folder + '/Data'"
   ]
  },
  {
   "cell_type": "code",
   "execution_count": 14,
   "metadata": {},
   "outputs": [],
   "source": [
    "data = sh.getdata(0,data_dir,verbose=False) \n",
    "N = 500\n",
    "\n",
    "#Create times and fluxes\n",
    "times = np.zeros(N)\n",
    "fluxes = np.zeros(N)\n",
    "\n",
    "for ind in range(0,N):\n",
    "    data = sh.getdata(ind,data_dir,verbose=False)\n",
    "    times[ind] = data.Last_dump_time_requested.data\n",
    "    fluxes[ind] = recon_flux(data)\n",
    "    \n",
    "\n",
    "\n",
    "#Extract Lundquist Number from control.f90 file\n",
    "src = folder + '/src/control.f90'\n",
    "with open(src, 'r') as fp:\n",
    "    # read all lines in a list\n",
    "    lines = fp.readlines()\n",
    "    line = lines[111] #this is where the eta_background is \n",
    "    \n",
    "    # extract Lundquist number\n",
    "    rl = [letter for letter in line if letter!=' ']\n",
    "    number_list = rl[15:-5]\n",
    "    s = ''.join(map(str, number_list))\n",
    "    inv_lundquist_number = float(s)\n",
    "    lundquist_number = 1/inv_lundquist_number \n",
    "      \n"
   ]
  },
  {
   "cell_type": "code",
   "execution_count": 15,
   "metadata": {},
   "outputs": [
    {
     "name": "stdout",
     "output_type": "stream",
     "text": [
      "0.15584424984191858\n"
     ]
    }
   ],
   "source": [
    "# see if all available flux is reconnected\n",
    "print(max(fluxes))"
   ]
  },
  {
   "cell_type": "code",
   "execution_count": 16,
   "metadata": {},
   "outputs": [
    {
     "data": {
      "text/plain": [
       "<matplotlib.lines.Line2D at 0x7fa986438a40>"
      ]
     },
     "execution_count": 16,
     "metadata": {},
     "output_type": "execute_result"
    },
    {
     "data": {
      "image/png": "[encoded data removed]",
      "text/plain": [
       "<Figure size 640x480 with 1 Axes>"
      ]
     },
     "metadata": {},
     "output_type": "display_data"
    }
   ],
   "source": [
    "# Visualise the reconnected flux vs time\n",
    "plt.plot(times, fluxes)\n",
    "plt.axvline(1.84)\n",
    "plt.axvline(2.72)"
   ]
  },
  {
   "cell_type": "code",
   "execution_count": 17,
   "metadata": {},
   "outputs": [
    {
     "data": {
      "image/png": "[encoded data removed]",
      "text/plain": [
       "<Figure size 1000x600 with 1 Axes>"
      ]
     },
     "metadata": {},
     "output_type": "display_data"
    }
   ],
   "source": [
    "# Calculate the rate of change of the flux\n",
    "flux_rate_of_change = np.diff(fluxes) / np.diff(times)\n",
    "\n",
    "# Calculate the midpoints of each time interval for plotting\n",
    "time_midpoints = (times[:-1] + times[1:]) / 2\n",
    "\n",
    "# Smooth the rate of change using a simple moving average\n",
    "def moving_average(data, window_size):\n",
    "    return np.convolve(data, np.ones(window_size), 'valid') / window_size\n",
    "\n",
    "# Choose a window size\n",
    "window_size = 5  # Adjust based on your data for smoother results\n",
    "\n",
    "smoothed_flux_rate_of_change = moving_average(flux_rate_of_change, window_size)\n",
    "smoothed_time_midpoints = moving_average(time_midpoints, window_size)\n",
    "\n",
    "# Plotting\n",
    "\n",
    "plt.figure(figsize=(10, 6))\n",
    "plt.plot(smoothed_time_midpoints, smoothed_flux_rate_of_change, linestyle='-', label='Smoothed Rate of Change')\n",
    "plt.title('Smoothed Rate of Change of Reconnected Flux Over Time')\n",
    "plt.xlabel('Time')\n",
    "plt.ylabel('Rate of Change of Flux')\n",
    "plt.grid(True)\n",
    "plt.axvline(1.84)\n",
    "plt.axvline(2.72)\n",
    "plt.legend()\n",
    "plt.show()"
   ]
  },
  {
   "cell_type": "markdown",
   "metadata": {},
   "source": [
    "## Dynamic Measure of $V_{\\text{rec}}$"
   ]
  },
  {
   "cell_type": "code",
   "execution_count": 18,
   "metadata": {},
   "outputs": [
    {
     "name": "stdout",
     "output_type": "stream",
     "text": [
      "0.1\n",
      "0.15\n",
      "0.2\n",
      "0.25\n",
      "0.3\n",
      "0.35\n",
      "0.4\n",
      "0.45\n",
      "0.5\n"
     ]
    },
    {
     "data": {
      "text/html": [
       "<div>\n",
       "<style scoped>\n",
       "    .dataframe tbody tr th:only-of-type {\n",
       "        vertical-align: middle;\n",
       "    }\n",
       "\n",
       "    .dataframe tbody tr th {\n",
       "        vertical-align: top;\n",
       "    }\n",
       "\n",
       "    .dataframe thead th {\n",
       "        text-align: right;\n",
       "    }\n",
       "</style>\n",
       "<table border=\"1\" class=\"dataframe\">\n",
       "  <thead>\n",
       "    <tr style=\"text-align: right;\">\n",
       "      <th></th>\n",
       "      <th>0</th>\n",
       "    </tr>\n",
       "  </thead>\n",
       "  <tbody>\n",
       "    <tr>\n",
       "      <th>Lundquist Number</th>\n",
       "      <td>10000.000000</td>\n",
       "    </tr>\n",
       "    <tr>\n",
       "      <th>t_rec0.1</th>\n",
       "      <td>0.340000</td>\n",
       "    </tr>\n",
       "    <tr>\n",
       "      <th>v_rate0.1</th>\n",
       "      <td>0.045837</td>\n",
       "    </tr>\n",
       "    <tr>\n",
       "      <th>t_rec0.15</th>\n",
       "      <td>0.520000</td>\n",
       "    </tr>\n",
       "    <tr>\n",
       "      <th>v_rate0.15</th>\n",
       "      <td>0.044955</td>\n",
       "    </tr>\n",
       "    <tr>\n",
       "      <th>t_rec0.2</th>\n",
       "      <td>0.640000</td>\n",
       "    </tr>\n",
       "    <tr>\n",
       "      <th>v_rate0.2</th>\n",
       "      <td>0.048701</td>\n",
       "    </tr>\n",
       "    <tr>\n",
       "      <th>t_rec0.25</th>\n",
       "      <td>0.720000</td>\n",
       "    </tr>\n",
       "    <tr>\n",
       "      <th>v_rate0.25</th>\n",
       "      <td>0.054113</td>\n",
       "    </tr>\n",
       "    <tr>\n",
       "      <th>t_rec0.3</th>\n",
       "      <td>0.820000</td>\n",
       "    </tr>\n",
       "    <tr>\n",
       "      <th>v_rate0.3</th>\n",
       "      <td>0.057016</td>\n",
       "    </tr>\n",
       "    <tr>\n",
       "      <th>t_rec0.35</th>\n",
       "      <td>0.900000</td>\n",
       "    </tr>\n",
       "    <tr>\n",
       "      <th>v_rate0.35</th>\n",
       "      <td>0.060606</td>\n",
       "    </tr>\n",
       "    <tr>\n",
       "      <th>t_rec0.4</th>\n",
       "      <td>1.000000</td>\n",
       "    </tr>\n",
       "    <tr>\n",
       "      <th>v_rate0.4</th>\n",
       "      <td>0.062338</td>\n",
       "    </tr>\n",
       "    <tr>\n",
       "      <th>t_rec0.45</th>\n",
       "      <td>1.180000</td>\n",
       "    </tr>\n",
       "    <tr>\n",
       "      <th>v_rate0.45</th>\n",
       "      <td>0.059432</td>\n",
       "    </tr>\n",
       "    <tr>\n",
       "      <th>t_rec0.5</th>\n",
       "      <td>1.360000</td>\n",
       "    </tr>\n",
       "    <tr>\n",
       "      <th>v_rate0.5</th>\n",
       "      <td>0.057296</td>\n",
       "    </tr>\n",
       "  </tbody>\n",
       "</table>\n",
       "</div>"
      ],
      "text/plain": [
       "                             0\n",
       "Lundquist Number  10000.000000\n",
       "t_rec0.1              0.340000\n",
       "v_rate0.1             0.045837\n",
       "t_rec0.15             0.520000\n",
       "v_rate0.15            0.044955\n",
       "t_rec0.2              0.640000\n",
       "v_rate0.2             0.048701\n",
       "t_rec0.25             0.720000\n",
       "v_rate0.25            0.054113\n",
       "t_rec0.3              0.820000\n",
       "v_rate0.3             0.057016\n",
       "t_rec0.35             0.900000\n",
       "v_rate0.35            0.060606\n",
       "t_rec0.4              1.000000\n",
       "v_rate0.4             0.062338\n",
       "t_rec0.45             1.180000\n",
       "v_rate0.45            0.059432\n",
       "t_rec0.5              1.360000\n",
       "v_rate0.5             0.057296"
      ]
     },
     "execution_count": 18,
     "metadata": {},
     "output_type": "execute_result"
    }
   ],
   "source": [
    "output = {'Lundquist Number': lundquist_number}\n",
    "\n",
    "percentages = [0.10, 0.15, 0.20, 0.25, 0.30, 0.35, 0.40, 0.45, 0.50]\n",
    "\n",
    "\n",
    "for percent in percentages:\n",
    "    t_rec, v_rate = calculator(times, fluxes, percent)\n",
    "    #print(type(t_rec))\n",
    "    output[f\"t_rec{percent}\"] = t_rec\n",
    "    output[f\"v_rate{percent}\"] = v_rate\n",
    "    print(percent)\n",
    "\n",
    "\n",
    "output_DF = pd.DataFrame.from_dict(output, orient='index')\n",
    "\n",
    "output_DF"
   ]
  },
  {
   "cell_type": "code",
   "execution_count": 19,
   "metadata": {},
   "outputs": [],
   "source": [
    "filepath = folder+'/rates_times_5_hall_5.csv'\n",
    "output_DF.to_csv(filepath)"
   ]
  },
  {
   "cell_type": "code",
   "execution_count": 20,
   "metadata": {},
   "outputs": [],
   "source": [
    "import pickle\n",
    "\n",
    "data_to_pickle = {'times':times, 'fluxes':fluxes}\n",
    "\n",
    "with open(f'{folder}_data.pkl', 'wb') as file:\n",
    "    pickle.dump(data_to_pickle, file)\n",
    "    "
   ]
  },
  {
   "cell_type": "markdown",
   "metadata": {},
   "source": [
    "## Static Measure of $V_{\\text{rec}}$"
   ]
  },
  {
   "cell_type": "code",
   "execution_count": 21,
   "metadata": {},
   "outputs": [
    {
     "name": "stdout",
     "output_type": "stream",
     "text": [
      "0.7200000000000005 0.05555555555555552\n"
     ]
    }
   ],
   "source": [
    "t_rec_original, v_rec_original = calculator_original(times, fluxes)\n",
    "print(t_rec_original, v_rec_original)\n",
    "output = {'Lundquist Number': lundquist_number, 't_rec_original':t_rec_original, \n",
    "          'v_rec_original': v_rec_original}\n",
    "\n",
    "original_DF = pd.DataFrame.from_dict(output, orient='index')\n",
    "\n",
    "filepath = folder+'/original_rates.csv'\n",
    "original_DF.to_csv(filepath)"
   ]
  },
  {
   "cell_type": "code",
   "execution_count": null,
   "metadata": {},
   "outputs": [],
   "source": []
  }
 ],
 "metadata": {
  "kernelspec": {
   "display_name": "larevis",
   "language": "python",
   "name": "python3"
  },
  "language_info": {
   "codemirror_mode": {
    "name": "ipython",
    "version": 3
   },
   "file_extension": ".py",
   "mimetype": "text/x-python",
   "name": "python",
   "nbconvert_exporter": "python",
   "pygments_lexer": "ipython3",
   "version": "3.12.1"
  }
 },
 "nbformat": 4,
 "nbformat_minor": 2
}
