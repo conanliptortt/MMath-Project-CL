{
 "cells": [
  {
   "cell_type": "markdown",
   "metadata": {},
   "source": [
    "# Tools for calculating reconnection rate and reconnected flux"
   ]
  },
  {
   "cell_type": "code",
   "execution_count": 244,
   "metadata": {},
   "outputs": [],
   "source": [
    "import numpy as np\n",
    "import sdf_helper as sh\n",
    "import pandas as pd\n",
    "import os as os\n",
    "import matplotlib.pyplot as plt"
   ]
  },
  {
   "cell_type": "markdown",
   "metadata": {},
   "source": [
    "### Flux and Reconnection Rate Calculator Functions"
   ]
  },
  {
   "cell_type": "code",
   "execution_count": 245,
   "metadata": {},
   "outputs": [],
   "source": [
    "def recon_flux_half(data):\n",
    "    \"\"\"calculated reconnected flux on half domain\"\"\"\n",
    "    By = data.Magnetic_Field_By\n",
    "    nx, ny = data.Grid_Grid_mid.dims\n",
    "    xb = data.Grid_Grid.data[0]\n",
    "    flux = 0\n",
    "    max_flux = 0\n",
    "    for i in range(0,nx):\n",
    "        flux = flux + (xb[i+1]-xb[i])*By.data[i,0] # h*By at y=0\n",
    "        if (flux > max_flux):\n",
    "            max_flux = flux\n",
    "    return max_flux\n",
    "\n",
    "    \n",
    "def recon_flux(data):\n",
    "    \"\"\"Calculated reconnected flux on whole domain\"\"\"\n",
    "    By = data.Magnetic_Field_By\n",
    "    \n",
    "    nx, ny = data.Grid_Grid_mid.dims\n",
    "    xb = data.Grid_Grid.data[0]\n",
    "    flux = 0\n",
    "    max_flux = 0\n",
    "    j = ny // 2\n",
    "    for i in range(0, nx):\n",
    "         # Iterate over positive half of y-coordinates\n",
    "        flux += By.data[i, j] * (xb[i + 1] - xb[i])  # h*By at y coordinate\n",
    "        if flux > max_flux:\n",
    "            max_flux = flux\n",
    "    return max_flux\n",
    "    \n",
    "def find_max_flux(fluxes):\n",
    "    \"\"\"Find the maximum flux in the fluxes array.\"\"\"\n",
    "    return max(fluxes)\n",
    "\n",
    "def calculate_time_difference(times, fluxes, percent):\n",
    "    \"\"\"Calculate the time difference between flux=0.01 and percent% of max flux.\"\"\"\n",
    "    max_flux = find_max_flux(fluxes)\n",
    "    target_flux = percent * max_flux + 0.01\n",
    "\n",
    "    # Find index for flux > 0.01\n",
    "    index_start = next(i for i, flux in enumerate(fluxes) if flux > 0.01)\n",
    "\n",
    "    # Find index for flux > 25% of max flux\n",
    "    index_target = next(i for i, flux in enumerate(fluxes) if flux > target_flux)\n",
    "\n",
    "    # Calculate time difference\n",
    "    time_difference = times[index_target] - times[index_start]\n",
    "    return time_difference\n",
    "\n",
    "def calculator(times, fluxes, percent):\n",
    "    \"\"\"Calculates dynamic measure of reconnection rate\"\"\"\n",
    "\n",
    "    max_flux = find_max_flux(fluxes)\n",
    "    target_flux = percent * max_flux + 0.01\n",
    "    \n",
    "    # Calculate change in flux \n",
    "    flux_change = percent * max_flux\n",
    "    # Find index for flux > 0.01\n",
    "    index_start = next(i for i, flux in enumerate(fluxes) if flux > 0.01)\n",
    "\n",
    "    # Find index for flux > 25% of max flux\n",
    "    index_target = next(i for i, flux in enumerate(fluxes) if flux > target_flux)\n",
    "\n",
    "    # Calculate time difference\n",
    "    time_difference = times[index_target] - times[index_start]\n",
    "    \n",
    "    #Calculate reconnection rate\n",
    "    reco_rate = flux_change / time_difference\n",
    "    \n",
    "    \n",
    "    return time_difference, reco_rate\n",
    "\n",
    "def calculator_original(times, fluxes):\n",
    "    \"\"\" Calculates Static measure of reconnection rate \"\"\"\n",
    "\n",
    "    target_flux = 0.05\n",
    "    starting_flux = 0.01\n",
    "    flux_change = target_flux-starting_flux\n",
    "    # Find index for flux > 0.01\n",
    "    index_start = next(i for i, flux in enumerate(fluxes) if flux > 0.01)\n",
    "\n",
    "    # Find index for flux > 25% of max flux\n",
    "    index_target = next(i for i, flux in enumerate(fluxes) if flux > target_flux)\n",
    "\n",
    "    # Calculate time difference\n",
    "    time_difference = times[index_target] - times[index_start]\n",
    "\n",
    "    #Calculate reconnection rate\n",
    "    reco_rate = flux_change / time_difference\n",
    "\n",
    "    \n",
    "    return time_difference, reco_rate\n",
    "\n",
    "    "
   ]
  },
  {
   "cell_type": "markdown",
   "metadata": {},
   "source": [
    "## Reconnected Flux Calculator"
   ]
  },
  {
   "cell_type": "code",
   "execution_count": 246,
   "metadata": {},
   "outputs": [],
   "source": [
    "folder = '/local_raid/honproj2/conan/sim_5_hall_6'\n",
    "data_dir = folder + '/Data'"
   ]
  },
  {
   "cell_type": "code",
   "execution_count": 247,
   "metadata": {},
   "outputs": [],
   "source": [
    "data = sh.getdata(0,data_dir,verbose=False) \n",
    "N = 500\n",
    "\n",
    "#Create times and fluxes\n",
    "times = np.zeros(N)\n",
    "fluxes = np.zeros(N)\n",
    "\n",
    "for ind in range(0,N):\n",
    "    data = sh.getdata(ind,data_dir,verbose=False)\n",
    "    times[ind] = data.Last_dump_time_requested.data\n",
    "    fluxes[ind] = recon_flux(data)\n",
    "    \n",
    "\n",
    "\n",
    "#Extract Lundquist Number from control.f90 file\n",
    "src = folder + '/src/control.f90'\n",
    "with open(src, 'r') as fp:\n",
    "    # read all lines in a list\n",
    "    lines = fp.readlines()\n",
    "    line = lines[111] #this is where the eta_background is \n",
    "    \n",
    "    # extract Lundquist number\n",
    "    rl = [letter for letter in line if letter!=' ']\n",
    "    number_list = rl[15:-5]\n",
    "    s = ''.join(map(str, number_list))\n",
    "    inv_lundquist_number = float(s)\n",
    "    lundquist_number = 1/inv_lundquist_number \n",
    "      \n"
   ]
  },
  {
   "cell_type": "code",
   "execution_count": 248,
   "metadata": {},
   "outputs": [
    {
     "name": "stdout",
     "output_type": "stream",
     "text": [
      "0.15396719911581574\n"
     ]
    }
   ],
   "source": [
    "# see if all available flux is reconnected\n",
    "print(max(fluxes))"
   ]
  },
  {
   "cell_type": "markdown",
   "metadata": {},
   "source": [
    "### Plot $V_{\\text{rec}}$"
   ]
  },
  {
   "cell_type": "code",
   "execution_count": 158,
   "metadata": {},
   "outputs": [],
   "source": [
    "# LaTeX for plot labels\n",
    "plt.rcParams['text.usetex'] = True\n",
    "\n",
    "# Specify the LaTeX package for standard math fonts\n",
    "plt.rcParams['text.latex.preamble'] = r'\\usepackage{amsmath}'\n",
    "\n",
    "\n",
    "plt.rcParams['xtick.labelsize'] = 20  # Example for x-axis tick labels\n",
    "plt.rcParams['ytick.labelsize'] = 20 "
   ]
  },
  {
   "cell_type": "code",
   "execution_count": 243,
   "metadata": {},
   "outputs": [
    {
     "data": {
      "image/png": "[encoded data removed]",
      "text/plain": [
       "<Figure size 1000x800 with 2 Axes>"
      ]
     },
     "metadata": {},
     "output_type": "display_data"
    }
   ],
   "source": [
    "# Calculate the rate of change of the flux\n",
    "flux_rate_of_change = np.diff(fluxes) / np.diff(times)\n",
    "\n",
    "# Calculate the midpoints of each time interval for plotting\n",
    "time_midpoints = (times[:-1] + times[1:]) / 2\n",
    "\n",
    "# Smooth the rate of change using a simple moving average\n",
    "def moving_average(data, window_size):\n",
    "    return np.convolve(data, np.ones(window_size), 'valid') / window_size\n",
    "\n",
    "# Choose a window size\n",
    "window_size = 5  # Adjust based on your data for smoother results\n",
    "\n",
    "smoothed_flux_rate_of_change = moving_average(flux_rate_of_change, window_size)\n",
    "smoothed_time_midpoints = moving_average(time_midpoints, window_size)\n",
    "\n",
    "\n",
    "average = 0 \n",
    "for i in range(20, 69): #start-end of Hall reconnection\n",
    "    average += fluxes[i]\n",
    "average = average/48\n",
    "# Plotting\n",
    "\n",
    "fig, ax = plt.subplots(2,1,figsize=(10, 8), gridspec_kw={'height_ratios': [3, 1]})\n",
    "\n",
    "ax[0].plot(smoothed_time_midpoints[:-400], smoothed_flux_rate_of_change[:-400], linestyle='-', color='k')\n",
    "ax[0].set_ylabel(r'$\\frac{d\\Phi}{dt}$', size=35,rotation=360, labelpad=25)\n",
    "#ax[1].set_xlabel(r'$t$ (seconds)')\n",
    "\n",
    "ax[0].grid(True, alpha=0.1)\n",
    "ax[1].grid(True, alpha=0.1)\n",
    "\n",
    "ax[0].axvspan(0,0.43, color='grey',  alpha=0.2, label='Onset / Low fluctuation')\n",
    "ax[0].axvspan(0.43,  0.66, color='green', alpha=0.3, label='Shortening')\n",
    "ax[0].axvspan(0.66, 0.82, color='red',   alpha=0.2, label='Lenthening')\n",
    "ax[0].axvspan(0.82,0.91, color='grey',  alpha=0.2)\n",
    "ax[0].axvspan(0.91 ,1, color='red',   alpha=0.2)\n",
    "ax[0].axvspan(1.002 ,1.17, color='red',   alpha=0.3)\n",
    "ax[0].axvspan(1.17, 1.275, color='green', alpha=0.2)\n",
    "ax[0].axvspan(1.275, 1.31, color='green', alpha=0.2)\n",
    "ax[0].axvspan(1.31, 1.38, color='red', alpha=0.2)\n",
    "ax[0].set_xticklabels([])\n",
    "\n",
    "ax[0].axvline(1.38,linestyle= '--', color='k')\n",
    "ax[0].axhline(average, linestyle='--', color='b')\n",
    "\n",
    "ax[1].axvline(1.38,linestyle= '--', color='k')\n",
    "ax[1].plot(times[:-403], fluxes[:-403], color='k')\n",
    "ax[1].set_ylabel(r'$\\Phi$', size=35, labelpad=40, rotation=360)\n",
    "\n",
    "ax[0].legend(prop={'size':18})\n",
    "ax[1].set_xlabel(r'$t$ (seconds)', size=30)\n",
    "\n",
    "ax[0].set_title(r'$\\Phi$ and $\\frac{d\\Phi}{dt}$ for $S_L=10^3$ and $\\lambda_i = 0.1$', size=35, pad=35)\n",
    "#fig.savefig('single_hall_vrec.png', bbox_inches='tight')\n",
    "fig.text(x=0.98, y=0.66,s=r'$V_{\\text{rec}}$', size=20, color='b')\n",
    "fig.text(x=0.69, y=0.89,s=r'$\\Phi_{\\text{max}}$', size=20, color='k')\n",
    "plt.tight_layout()\n",
    "fig.savefig('single_hall_vrec.png', bbox_inches='tight')\n",
    "\n",
    "plt.show()\n"
   ]
  },
  {
   "cell_type": "markdown",
   "metadata": {},
   "source": [
    "## Dynamic Measure of $V_{\\text{rec}}$"
   ]
  },
  {
   "cell_type": "code",
   "execution_count": 249,
   "metadata": {},
   "outputs": [
    {
     "name": "stdout",
     "output_type": "stream",
     "text": [
      "0.1\n",
      "0.15\n",
      "0.2\n",
      "0.25\n",
      "0.3\n",
      "0.35\n",
      "0.4\n",
      "0.45\n",
      "0.5\n"
     ]
    },
    {
     "data": {
      "text/html": [
       "<div>\n",
       "<style scoped>\n",
       "    .dataframe tbody tr th:only-of-type {\n",
       "        vertical-align: middle;\n",
       "    }\n",
       "\n",
       "    .dataframe tbody tr th {\n",
       "        vertical-align: top;\n",
       "    }\n",
       "\n",
       "    .dataframe thead th {\n",
       "        text-align: right;\n",
       "    }\n",
       "</style>\n",
       "<table border=\"1\" class=\"dataframe\">\n",
       "  <thead>\n",
       "    <tr style=\"text-align: right;\">\n",
       "      <th></th>\n",
       "      <th>0</th>\n",
       "    </tr>\n",
       "  </thead>\n",
       "  <tbody>\n",
       "    <tr>\n",
       "      <th>Lundquist Number</th>\n",
       "      <td>10000.000000</td>\n",
       "    </tr>\n",
       "    <tr>\n",
       "      <th>t_rec0.1</th>\n",
       "      <td>0.540000</td>\n",
       "    </tr>\n",
       "    <tr>\n",
       "      <th>v_rate0.1</th>\n",
       "      <td>0.028512</td>\n",
       "    </tr>\n",
       "    <tr>\n",
       "      <th>t_rec0.15</th>\n",
       "      <td>0.780000</td>\n",
       "    </tr>\n",
       "    <tr>\n",
       "      <th>v_rate0.15</th>\n",
       "      <td>0.029609</td>\n",
       "    </tr>\n",
       "    <tr>\n",
       "      <th>t_rec0.2</th>\n",
       "      <td>1.040000</td>\n",
       "    </tr>\n",
       "    <tr>\n",
       "      <th>v_rate0.2</th>\n",
       "      <td>0.029609</td>\n",
       "    </tr>\n",
       "    <tr>\n",
       "      <th>t_rec0.25</th>\n",
       "      <td>1.300000</td>\n",
       "    </tr>\n",
       "    <tr>\n",
       "      <th>v_rate0.25</th>\n",
       "      <td>0.029609</td>\n",
       "    </tr>\n",
       "    <tr>\n",
       "      <th>t_rec0.3</th>\n",
       "      <td>1.560000</td>\n",
       "    </tr>\n",
       "    <tr>\n",
       "      <th>v_rate0.3</th>\n",
       "      <td>0.029609</td>\n",
       "    </tr>\n",
       "    <tr>\n",
       "      <th>t_rec0.35</th>\n",
       "      <td>1.840000</td>\n",
       "    </tr>\n",
       "    <tr>\n",
       "      <th>v_rate0.35</th>\n",
       "      <td>0.029287</td>\n",
       "    </tr>\n",
       "    <tr>\n",
       "      <th>t_rec0.4</th>\n",
       "      <td>2.140000</td>\n",
       "    </tr>\n",
       "    <tr>\n",
       "      <th>v_rate0.4</th>\n",
       "      <td>0.028779</td>\n",
       "    </tr>\n",
       "    <tr>\n",
       "      <th>t_rec0.45</th>\n",
       "      <td>2.420000</td>\n",
       "    </tr>\n",
       "    <tr>\n",
       "      <th>v_rate0.45</th>\n",
       "      <td>0.028630</td>\n",
       "    </tr>\n",
       "    <tr>\n",
       "      <th>t_rec0.5</th>\n",
       "      <td>2.680000</td>\n",
       "    </tr>\n",
       "    <tr>\n",
       "      <th>v_rate0.5</th>\n",
       "      <td>0.028725</td>\n",
       "    </tr>\n",
       "  </tbody>\n",
       "</table>\n",
       "</div>"
      ],
      "text/plain": [
       "                             0\n",
       "Lundquist Number  10000.000000\n",
       "t_rec0.1              0.540000\n",
       "v_rate0.1             0.028512\n",
       "t_rec0.15             0.780000\n",
       "v_rate0.15            0.029609\n",
       "t_rec0.2              1.040000\n",
       "v_rate0.2             0.029609\n",
       "t_rec0.25             1.300000\n",
       "v_rate0.25            0.029609\n",
       "t_rec0.3              1.560000\n",
       "v_rate0.3             0.029609\n",
       "t_rec0.35             1.840000\n",
       "v_rate0.35            0.029287\n",
       "t_rec0.4              2.140000\n",
       "v_rate0.4             0.028779\n",
       "t_rec0.45             2.420000\n",
       "v_rate0.45            0.028630\n",
       "t_rec0.5              2.680000\n",
       "v_rate0.5             0.028725"
      ]
     },
     "execution_count": 249,
     "metadata": {},
     "output_type": "execute_result"
    }
   ],
   "source": [
    "output = {'Lundquist Number': lundquist_number}\n",
    "\n",
    "percentages = [0.10, 0.15, 0.20, 0.25, 0.30, 0.35, 0.40, 0.45, 0.50]\n",
    "\n",
    "\n",
    "for percent in percentages:\n",
    "    t_rec, v_rate = calculator(times, fluxes, percent)\n",
    "    #print(type(t_rec))\n",
    "    output[f\"t_rec{percent}\"] = t_rec\n",
    "    output[f\"v_rate{percent}\"] = v_rate\n",
    "    print(percent)\n",
    "\n",
    "\n",
    "output_DF = pd.DataFrame.from_dict(output, orient='index')\n",
    "\n",
    "output_DF"
   ]
  },
  {
   "cell_type": "code",
   "execution_count": 251,
   "metadata": {},
   "outputs": [],
   "source": [
    "filepath = folder+'/rates_times_5_hall_6.csv'\n",
    "output_DF.to_csv(filepath)"
   ]
  },
  {
   "cell_type": "code",
   "execution_count": 252,
   "metadata": {},
   "outputs": [],
   "source": [
    "import pickle\n",
    "\n",
    "data_to_pickle = {'times':times, 'fluxes':fluxes}\n",
    "\n",
    "with open(f'{folder}_data.pkl', 'wb') as file:\n",
    "    pickle.dump(data_to_pickle, file)\n",
    "    "
   ]
  },
  {
   "cell_type": "markdown",
   "metadata": {},
   "source": [
    "## Static Measure of $V_{\\text{rec}}$"
   ]
  },
  {
   "cell_type": "code",
   "execution_count": 253,
   "metadata": {},
   "outputs": [
    {
     "name": "stdout",
     "output_type": "stream",
     "text": [
      "1.340000000000001 0.029850746268656695\n"
     ]
    }
   ],
   "source": [
    "t_rec_original, v_rec_original = calculator_original(times, fluxes)\n",
    "print(t_rec_original, v_rec_original)\n",
    "output = {'Lundquist Number': lundquist_number, 't_rec_original':t_rec_original, \n",
    "          'v_rec_original': v_rec_original}\n",
    "\n",
    "original_DF = pd.DataFrame.from_dict(output, orient='index')\n",
    "\n",
    "filepath = folder+'/original_rates.csv'\n",
    "original_DF.to_csv(filepath)"
   ]
  },
  {
   "cell_type": "code",
   "execution_count": null,
   "metadata": {},
   "outputs": [],
   "source": []
  }
 ],
 "metadata": {
  "kernelspec": {
   "display_name": "larevis",
   "language": "python",
   "name": "python3"
  },
  "language_info": {
   "codemirror_mode": {
    "name": "ipython",
    "version": 3
   },
   "file_extension": ".py",
   "mimetype": "text/x-python",
   "name": "python",
   "nbconvert_exporter": "python",
   "pygments_lexer": "ipython3",
   "version": "3.12.1"
  }
 },
 "nbformat": 4,
 "nbformat_minor": 2
}
