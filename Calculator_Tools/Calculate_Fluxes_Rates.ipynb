{
 "cells": [
  {
   "cell_type": "markdown",
   "metadata": {},
   "source": [
    "# Tools for calculating reconnection rate and reconnected flux"
   ]
  },
  {
   "cell_type": "code",
   "execution_count": 1,
   "metadata": {},
   "outputs": [],
   "source": [
    "import numpy as np\n",
    "import sdf_helper as sh\n",
    "import pandas as pd\n",
    "import os as os\n",
    "import matplotlib.pyplot as plt"
   ]
  },
  {
   "cell_type": "markdown",
   "metadata": {},
   "source": [
    "### Flux and Reconnection Rate Calculator Functions"
   ]
  },
  {
   "cell_type": "code",
   "execution_count": 2,
   "metadata": {},
   "outputs": [],
   "source": [
    "def recon_flux_half(data):\n",
    "    \"\"\"calculated reconnected flux on half domain\"\"\"\n",
    "    By = data.Magnetic_Field_By\n",
    "    nx, ny = data.Grid_Grid_mid.dims\n",
    "    xb = data.Grid_Grid.data[0]\n",
    "    flux = 0\n",
    "    max_flux = 0\n",
    "    for i in range(0,nx):\n",
    "        flux = flux + (xb[i+1]-xb[i])*By.data[i,0] # h*By at y=0\n",
    "        if (flux > max_flux):\n",
    "            max_flux = flux\n",
    "    return max_flux\n",
    "\n",
    "    \n",
    "def recon_flux(data):\n",
    "    \"\"\"Calculated reconnected flux on whole domain\"\"\"\n",
    "    By = data.Magnetic_Field_By\n",
    "    \n",
    "    nx, ny = data.Grid_Grid_mid.dims\n",
    "    xb = data.Grid_Grid.data[0]\n",
    "    flux = 0\n",
    "    max_flux = 0\n",
    "    j = ny // 2\n",
    "    for i in range(0, nx):\n",
    "         # Iterate over positive half of y-coordinates\n",
    "        flux += By.data[i, j] * (xb[i + 1] - xb[i])  # h*By at y coordinate\n",
    "        if flux > max_flux:\n",
    "            max_flux = flux\n",
    "    return max_flux\n",
    "    \n",
    "def find_max_flux(fluxes):\n",
    "    \"\"\"Find the maximum flux in the fluxes array.\"\"\"\n",
    "    return max(fluxes)\n",
    "\n",
    "def calculate_time_difference(times, fluxes, percent):\n",
    "    \"\"\"Calculate the time difference between flux=0.01 and percent% of max flux.\"\"\"\n",
    "    max_flux = find_max_flux(fluxes)\n",
    "    target_flux = percent * max_flux + 0.01\n",
    "\n",
    "    # Find index for flux > 0.01\n",
    "    index_start = next(i for i, flux in enumerate(fluxes) if flux > 0.01)\n",
    "\n",
    "    # Find index for flux > 25% of max flux\n",
    "    index_target = next(i for i, flux in enumerate(fluxes) if flux > target_flux)\n",
    "\n",
    "    # Calculate time difference\n",
    "    time_difference = times[index_target] - times[index_start]\n",
    "    return time_difference\n",
    "\n",
    "def calculator(times, fluxes, percent):\n",
    "    \"\"\"Calculates dynamic measure of reconnection rate\"\"\"\n",
    "\n",
    "    max_flux = find_max_flux(fluxes)\n",
    "    target_flux = percent * max_flux + 0.01\n",
    "    \n",
    "    # Calculate change in flux \n",
    "    flux_change = percent * max_flux\n",
    "    # Find index for flux > 0.01\n",
    "    index_start = next(i for i, flux in enumerate(fluxes) if flux > 0.01)\n",
    "\n",
    "    # Find index for flux > 25% of max flux\n",
    "    index_target = next(i for i, flux in enumerate(fluxes) if flux > target_flux)\n",
    "\n",
    "    # Calculate time difference\n",
    "    time_difference = times[index_target] - times[index_start]\n",
    "    \n",
    "    #Calculate reconnection rate\n",
    "    reco_rate = flux_change / time_difference\n",
    "    \n",
    "    \n",
    "    return time_difference, reco_rate\n",
    "\n",
    "def calculator_original(times, fluxes):\n",
    "    \"\"\" Calculates Static measure of reconnection rate \"\"\"\n",
    "\n",
    "    target_flux = 0.05\n",
    "    starting_flux = 0.01\n",
    "    flux_change = target_flux-starting_flux\n",
    "    # Find index for flux > 0.01\n",
    "    index_start = next(i for i, flux in enumerate(fluxes) if flux > 0.01)\n",
    "\n",
    "    # Find index for flux > 25% of max flux\n",
    "    index_target = next(i for i, flux in enumerate(fluxes) if flux > target_flux)\n",
    "\n",
    "    # Calculate time difference\n",
    "    time_difference = times[index_target] - times[index_start]\n",
    "\n",
    "    #Calculate reconnection rate\n",
    "    reco_rate = flux_change / time_difference\n",
    "\n",
    "    \n",
    "    return time_difference, reco_rate\n",
    "\n",
    "    "
   ]
  },
  {
   "cell_type": "markdown",
   "metadata": {},
   "source": [
    "## Reconnected Flux Calculator"
   ]
  },
  {
   "cell_type": "code",
   "execution_count": 33,
   "metadata": {},
   "outputs": [],
   "source": [
    "folder = '/local_raid/honproj2/conan/sim_13_hall_5'\n",
    "data_dir = folder + '/Data'"
   ]
  },
  {
   "cell_type": "code",
   "execution_count": 34,
   "metadata": {},
   "outputs": [],
   "source": [
    "data = sh.getdata(0,data_dir,verbose=False) \n",
    "N = 230\n",
    "\n",
    "#Create times and fluxes\n",
    "times = np.zeros(N)\n",
    "fluxes = np.zeros(N)\n",
    "\n",
    "for ind in range(0,N):\n",
    "    data = sh.getdata(ind,data_dir,verbose=False)\n",
    "    times[ind] = data.Last_dump_time_requested.data\n",
    "    fluxes[ind] = recon_flux(data)\n",
    "    \n",
    "\n",
    "\n",
    "#Extract Lundquist Number from control.f90 file\n",
    "src = folder + '/src/control.f90'\n",
    "with open(src, 'r') as fp:\n",
    "    # read all lines in a list\n",
    "    lines = fp.readlines()\n",
    "    line = lines[111] #this is where the eta_background is \n",
    "    \n",
    "    # extract Lundquist number\n",
    "    rl = [letter for letter in line if letter!=' ']\n",
    "    number_list = rl[15:-5]\n",
    "    s = ''.join(map(str, number_list))\n",
    "    inv_lundquist_number = float(s)\n",
    "    lundquist_number = 1/inv_lundquist_number \n",
    "      \n"
   ]
  },
  {
   "cell_type": "code",
   "execution_count": 35,
   "metadata": {},
   "outputs": [
    {
     "name": "stdout",
     "output_type": "stream",
     "text": [
      "0.1484537666829874\n"
     ]
    }
   ],
   "source": [
    "# see if all available flux is reconnected\n",
    "print(max(fluxes))"
   ]
  },
  {
   "cell_type": "code",
   "execution_count": 49,
   "metadata": {},
   "outputs": [
    {
     "data": {
      "text/plain": [
       "<matplotlib.lines.Line2D at 0x7fb7a7cef080>"
      ]
     },
     "execution_count": 49,
     "metadata": {},
     "output_type": "execute_result"
    },
    {
     "data": {
      "image/png": "[encoded data removed]",
      "text/plain": [
       "<Figure size 640x480 with 1 Axes>"
      ]
     },
     "metadata": {},
     "output_type": "display_data"
    }
   ],
   "source": [
    "# Visualise the reconnected flux vs time\n",
    "plt.plot(times, fluxes)\n",
    "plt.axvline(1.84)\n",
    "plt.axvline(2.72)"
   ]
  },
  {
   "cell_type": "markdown",
   "metadata": {},
   "source": [
    "## Dynamic Measure of $V_{\\text{rec}}$"
   ]
  },
  {
   "cell_type": "code",
   "execution_count": 37,
   "metadata": {},
   "outputs": [
    {
     "name": "stdout",
     "output_type": "stream",
     "text": [
      "0.1\n",
      "0.15\n",
      "0.2\n",
      "0.25\n",
      "0.3\n",
      "0.35\n",
      "0.4\n",
      "0.45\n",
      "0.5\n"
     ]
    },
    {
     "data": {
      "text/html": [
       "<div>\n",
       "<style scoped>\n",
       "    .dataframe tbody tr th:only-of-type {\n",
       "        vertical-align: middle;\n",
       "    }\n",
       "\n",
       "    .dataframe tbody tr th {\n",
       "        vertical-align: top;\n",
       "    }\n",
       "\n",
       "    .dataframe thead th {\n",
       "        text-align: right;\n",
       "    }\n",
       "</style>\n",
       "<table border=\"1\" class=\"dataframe\">\n",
       "  <thead>\n",
       "    <tr style=\"text-align: right;\">\n",
       "      <th></th>\n",
       "      <th>0</th>\n",
       "    </tr>\n",
       "  </thead>\n",
       "  <tbody>\n",
       "    <tr>\n",
       "      <th>Lundquist Number</th>\n",
       "      <td>100000.000000</td>\n",
       "    </tr>\n",
       "    <tr>\n",
       "      <th>t_rec0.1</th>\n",
       "      <td>0.660000</td>\n",
       "    </tr>\n",
       "    <tr>\n",
       "      <th>v_rate0.1</th>\n",
       "      <td>0.022493</td>\n",
       "    </tr>\n",
       "    <tr>\n",
       "      <th>t_rec0.15</th>\n",
       "      <td>0.760000</td>\n",
       "    </tr>\n",
       "    <tr>\n",
       "      <th>v_rate0.15</th>\n",
       "      <td>0.029300</td>\n",
       "    </tr>\n",
       "    <tr>\n",
       "      <th>t_rec0.2</th>\n",
       "      <td>0.820000</td>\n",
       "    </tr>\n",
       "    <tr>\n",
       "      <th>v_rate0.2</th>\n",
       "      <td>0.036208</td>\n",
       "    </tr>\n",
       "    <tr>\n",
       "      <th>t_rec0.25</th>\n",
       "      <td>0.920000</td>\n",
       "    </tr>\n",
       "    <tr>\n",
       "      <th>v_rate0.25</th>\n",
       "      <td>0.040341</td>\n",
       "    </tr>\n",
       "    <tr>\n",
       "      <th>t_rec0.3</th>\n",
       "      <td>1.060000</td>\n",
       "    </tr>\n",
       "    <tr>\n",
       "      <th>v_rate0.3</th>\n",
       "      <td>0.042015</td>\n",
       "    </tr>\n",
       "    <tr>\n",
       "      <th>t_rec0.35</th>\n",
       "      <td>1.280000</td>\n",
       "    </tr>\n",
       "    <tr>\n",
       "      <th>v_rate0.35</th>\n",
       "      <td>0.040593</td>\n",
       "    </tr>\n",
       "    <tr>\n",
       "      <th>t_rec0.4</th>\n",
       "      <td>1.460000</td>\n",
       "    </tr>\n",
       "    <tr>\n",
       "      <th>v_rate0.4</th>\n",
       "      <td>0.040672</td>\n",
       "    </tr>\n",
       "    <tr>\n",
       "      <th>t_rec0.45</th>\n",
       "      <td>1.600000</td>\n",
       "    </tr>\n",
       "    <tr>\n",
       "      <th>v_rate0.45</th>\n",
       "      <td>0.041753</td>\n",
       "    </tr>\n",
       "    <tr>\n",
       "      <th>t_rec0.5</th>\n",
       "      <td>1.760000</td>\n",
       "    </tr>\n",
       "    <tr>\n",
       "      <th>v_rate0.5</th>\n",
       "      <td>0.042174</td>\n",
       "    </tr>\n",
       "  </tbody>\n",
       "</table>\n",
       "</div>"
      ],
      "text/plain": [
       "                              0\n",
       "Lundquist Number  100000.000000\n",
       "t_rec0.1               0.660000\n",
       "v_rate0.1              0.022493\n",
       "t_rec0.15              0.760000\n",
       "v_rate0.15             0.029300\n",
       "t_rec0.2               0.820000\n",
       "v_rate0.2              0.036208\n",
       "t_rec0.25              0.920000\n",
       "v_rate0.25             0.040341\n",
       "t_rec0.3               1.060000\n",
       "v_rate0.3              0.042015\n",
       "t_rec0.35              1.280000\n",
       "v_rate0.35             0.040593\n",
       "t_rec0.4               1.460000\n",
       "v_rate0.4              0.040672\n",
       "t_rec0.45              1.600000\n",
       "v_rate0.45             0.041753\n",
       "t_rec0.5               1.760000\n",
       "v_rate0.5              0.042174"
      ]
     },
     "execution_count": 37,
     "metadata": {},
     "output_type": "execute_result"
    }
   ],
   "source": [
    "output = {'Lundquist Number': lundquist_number}\n",
    "\n",
    "percentages = [0.10, 0.15, 0.20, 0.25, 0.30, 0.35, 0.40, 0.45, 0.50]\n",
    "\n",
    "\n",
    "for percent in percentages:\n",
    "    t_rec, v_rate = calculator(times, fluxes, percent)\n",
    "    #print(type(t_rec))\n",
    "    output[f\"t_rec{percent}\"] = t_rec\n",
    "    output[f\"v_rate{percent}\"] = v_rate\n",
    "    print(percent)\n",
    "\n",
    "\n",
    "output_DF = pd.DataFrame.from_dict(output, orient='index')\n",
    "\n",
    "output_DF"
   ]
  },
  {
   "cell_type": "code",
   "execution_count": 38,
   "metadata": {},
   "outputs": [],
   "source": [
    "filepath = folder+'/rates_times_13_hall_5.csv'\n",
    "output_DF.to_csv(filepath)"
   ]
  },
  {
   "cell_type": "code",
   "execution_count": 39,
   "metadata": {},
   "outputs": [],
   "source": [
    "import pickle\n",
    "\n",
    "data_to_pickle = {'times':times, 'fluxes':fluxes}\n",
    "\n",
    "with open(f'{folder}_data.pkl', 'wb') as file:\n",
    "    pickle.dump(data_to_pickle, file)"
   ]
  },
  {
   "cell_type": "markdown",
   "metadata": {},
   "source": [
    "## Static Measure of $V_{\\text{rec}}$"
   ]
  },
  {
   "cell_type": "code",
   "execution_count": 40,
   "metadata": {},
   "outputs": [
    {
     "name": "stdout",
     "output_type": "stream",
     "text": [
      "0.9600000000000009 0.04166666666666663\n"
     ]
    }
   ],
   "source": [
    "t_rec_original, v_rec_original = calculator_original(times, fluxes)\n",
    "print(t_rec_original, v_rec_original)\n",
    "output = {'Lundquist Number': lundquist_number, 't_rec_original':t_rec_original, \n",
    "          'v_rec_original': v_rec_original}\n",
    "\n",
    "original_DF = pd.DataFrame.from_dict(output, orient='index')\n",
    "\n",
    "filepath = folder+'/original_rates.csv'\n",
    "original_DF.to_csv(filepath)"
   ]
  },
  {
   "cell_type": "code",
   "execution_count": null,
   "metadata": {},
   "outputs": [],
   "source": []
  }
 ],
 "metadata": {
  "kernelspec": {
   "display_name": "larevis",
   "language": "python",
   "name": "python3"
  },
  "language_info": {
   "codemirror_mode": {
    "name": "ipython",
    "version": 3
   },
   "file_extension": ".py",
   "mimetype": "text/x-python",
   "name": "python",
   "nbconvert_exporter": "python",
   "pygments_lexer": "ipython3",
   "version": "3.12.1"
  }
 },
 "nbformat": 4,
 "nbformat_minor": 2
}
