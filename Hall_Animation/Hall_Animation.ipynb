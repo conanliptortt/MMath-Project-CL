{
 "cells": [
  {
   "cell_type": "code",
   "execution_count": 3,
   "metadata": {},
   "outputs": [],
   "source": [
    "import os as os\n",
    "import pandas as pd\n",
    "import numpy as np\n",
    "import matplotlib.pyplot as plt\n",
    "import sdf_helper as sh\n",
    "from matplotlib.ticker import MaxNLocator\n",
    "import matplotlib.colors as mcolors\n",
    "from PIL import Image, ImageSequence\n",
    "%matplotlib inline"
   ]
  },
  {
   "cell_type": "code",
   "execution_count": 4,
   "metadata": {},
   "outputs": [
    {
     "name": "stdout",
     "output_type": "stream",
     "text": [
      "['Hall_Animation.ipynb']\n"
     ]
    }
   ],
   "source": [
    "simulation = '/local_raid/honproj2/conan/sim_3_hall'\n",
    "print(os.listdir())\n",
    "os.chdir(simulation)\n",
    "\n",
    "data_dir = 'Data'"
   ]
  },
  {
   "cell_type": "markdown",
   "metadata": {},
   "source": [
    "### Current Density plotting Function"
   ]
  },
  {
   "cell_type": "code",
   "execution_count": 7,
   "metadata": {},
   "outputs": [],
   "source": [
    "# LaTeX for plot labels\n",
    "plt.rcParams['text.usetex'] = True\n",
    "\n",
    "# Specify the LaTeX package for standard math fonts\n",
    "plt.rcParams['text.latex.preamble'] = r'\\usepackage{amsmath}'\n",
    "\n",
    "\n",
    "plt.rcParams['xtick.labelsize'] = 20  # Example for x-axis tick labels\n",
    "plt.rcParams['ytick.labelsize'] = 20 "
   ]
  },
  {
   "cell_type": "code",
   "execution_count": 17,
   "metadata": {},
   "outputs": [],
   "source": [
    "\n",
    "def plot(d, filename):\n",
    "    data = sh.getdata(d,data_dir, verbose=False)\n",
    "    t = data.Last_dump_time_requested.data\n",
    "    g = data.Grid_Grid\n",
    "    xb = g.data[0]\n",
    "    yb = g.data[1]\n",
    "    current = data.Current_Jz\n",
    "\n",
    "    fig, ax = plt.subplots(figsize=(10,4))\n",
    "    X, Y = np.meshgrid(xb,yb,indexing='ij')\n",
    " \n",
    "    pcm = plt.pcolormesh(X,Y,current.data, cmap='magma')\n",
    "    \n",
    "    plt.xlabel(r'$x$', size=25)\n",
    "    plt.ylabel(r'$z$', size=25)\n",
    "    plt.ylim(-0.05,0.05) # Super close-up\n",
    "    plt.xlim(-0.15,0.15)\n",
    "    \n",
    "    plt.title(r'Current Density $J_y$ at time $t=$'+f'{np.round(t, 4)}'+r' for $S_L = 10^3$ and $\\lambda_i=0.1$', size=22, pad=25)\n",
    "    cbar = plt.colorbar(fraction=0.025, pad=0.04);\n",
    "    cbar.set_label(r'$J_y$', size=22, rotation=270, labelpad=25)\n",
    "    #plt.show()\n",
    "    fig.savefig(filename, bbox_inches='tight')\n",
    "    plt.close(fig)  \n",
    "   \n"
   ]
  },
  {
   "cell_type": "markdown",
   "metadata": {},
   "source": [
    "### Make Plots"
   ]
  },
  {
   "cell_type": "code",
   "execution_count": 18,
   "metadata": {},
   "outputs": [],
   "source": [
    "for d in range(1, 69):  # Assuming you want plots for d = 1 to 68\n",
    "    filename = f'plot_{d}.png'  # Save images to /mnt/data directory\n",
    "    plot(d, filename)"
   ]
  },
  {
   "cell_type": "markdown",
   "metadata": {},
   "source": [
    "### Make Animation"
   ]
  },
  {
   "cell_type": "code",
   "execution_count": 19,
   "metadata": {},
   "outputs": [
    {
     "name": "stdout",
     "output_type": "stream",
     "text": [
      "GIF animation saved to Hall_X-point_closeup_animation.gif\n"
     ]
    }
   ],
   "source": [
    "image_files = [f'plot_{i}.png' for i in range(1, 69)]\n",
    "\n",
    "image_directory = simulation\n",
    "# Load the first image and create a list to hold the remaining images\n",
    "first_image = Image.open(os.path.join(image_directory, image_files[0]))\n",
    "remaining_images = [Image.open(os.path.join(image_directory, img_file)) for img_file in image_files[1:]]\n",
    "\n",
    "# Save the images as a GIF\n",
    "output_path = 'Hall_X-point_closeup_animation.gif'  # Specify your output path\n",
    "first_image.save(\n",
    "    output_path,\n",
    "    save_all=True,\n",
    "    append_images=remaining_images,\n",
    "    duration=100,  # Duration between frames in milliseconds\n",
    "    loop=0  # Loop forever; set to 1+ for specific number of loops\n",
    ")\n",
    "\n",
    "print(f'GIF animation saved to {output_path}')"
   ]
  },
  {
   "cell_type": "code",
   "execution_count": null,
   "metadata": {},
   "outputs": [],
   "source": []
  }
 ],
 "metadata": {
  "kernelspec": {
   "display_name": "larevis",
   "language": "python",
   "name": "python3"
  },
  "language_info": {
   "codemirror_mode": {
    "name": "ipython",
    "version": 3
   },
   "file_extension": ".py",
   "mimetype": "text/x-python",
   "name": "python",
   "nbconvert_exporter": "python",
   "pygments_lexer": "ipython3",
   "version": "3.12.1"
  }
 },
 "nbformat": 4,
 "nbformat_minor": 2
}
